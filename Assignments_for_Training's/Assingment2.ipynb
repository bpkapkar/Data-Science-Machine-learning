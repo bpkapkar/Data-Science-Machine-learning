{
  "nbformat": 4,
  "nbformat_minor": 0,
  "metadata": {
    "colab": {
      "name": "Assingment2.ipynb",
      "provenance": []
    },
    "kernelspec": {
      "name": "python3",
      "display_name": "Python 3"
    }
  },
  "cells": [
    {
      "cell_type": "markdown",
      "metadata": {
        "id": "KmNGTvh6gNpx",
        "colab_type": "text"
      },
      "source": [
        "1.1  Write a Python Program to implement your own myreduce() function which works exactly like Python's built-in function reduce()"
      ]
    },
    {
      "cell_type": "code",
      "metadata": {
        "id": "kRXED6Q0Gwd0",
        "colab_type": "code",
        "colab": {}
      },
      "source": [
        "def myreduce(func,list1):\n",
        "      for i in range(0, len(list1)-1):\n",
        "        a=func(list1[i],list1[i+1])\n",
        "        list1[i+1]=a\n",
        "      return list1[-1]"
      ],
      "execution_count": 0,
      "outputs": []
    },
    {
      "cell_type": "code",
      "metadata": {
        "id": "3K2uKOWqgF7C",
        "colab_type": "code",
        "outputId": "9b5d3fe1-aeaa-443d-9078-8f6adbce6970",
        "colab": {
          "base_uri": "https://localhost:8080/",
          "height": 35
        }
      },
      "source": [
        "myreduce(lambda x,y:x+y,[1,2,4,5,4])\n"
      ],
      "execution_count": 0,
      "outputs": [
        {
          "output_type": "execute_result",
          "data": {
            "text/plain": [
              "16"
            ]
          },
          "metadata": {
            "tags": []
          },
          "execution_count": 27
        }
      ]
    },
    {
      "cell_type": "markdown",
      "metadata": {
        "id": "bCwVM-j2FjB9",
        "colab_type": "text"
      },
      "source": [
        "1.2  \n",
        " \n",
        "Write a Python program to implement your own myfilter() function which works exactly like Python's built-in function filter() \n"
      ]
    },
    {
      "cell_type": "markdown",
      "metadata": {
        "id": "jausnCWvtvfM",
        "colab_type": "text"
      },
      "source": [
        ""
      ]
    },
    {
      "cell_type": "code",
      "metadata": {
        "id": "wDJQFpNAu6ps",
        "colab_type": "code",
        "outputId": "287c786a-7228-4e44-8bc4-94e216fa37af",
        "colab": {
          "base_uri": "https://localhost:8080/",
          "height": 35
        }
      },
      "source": [
        "mylist=list(range(1,11))\n",
        "mylist"
      ],
      "execution_count": 27,
      "outputs": [
        {
          "output_type": "execute_result",
          "data": {
            "text/plain": [
              "[1, 2, 3, 4, 5, 6, 7, 8, 9, 10]"
            ]
          },
          "metadata": {
            "tags": []
          },
          "execution_count": 27
        }
      ]
    },
    {
      "cell_type": "code",
      "metadata": {
        "id": "ySBonQVFyIxJ",
        "colab_type": "code",
        "colab": {}
      },
      "source": [
        "def even(i):\n",
        "     if i%2==0:\n",
        "      return i"
      ],
      "execution_count": 0,
      "outputs": []
    },
    {
      "cell_type": "code",
      "metadata": {
        "id": "xTn0XLmlvBgu",
        "colab_type": "code",
        "colab": {}
      },
      "source": [
        "def myfilter(func,list1):\n",
        "        value=[]\n",
        "        func_temp=func\n",
        "        for i in list1:\n",
        "          if func_temp(i):\n",
        "            value.append(i)\n",
        "        return value"
      ],
      "execution_count": 0,
      "outputs": []
    },
    {
      "cell_type": "code",
      "metadata": {
        "id": "ntVxEIEIxiNO",
        "colab_type": "code",
        "colab": {
          "base_uri": "https://localhost:8080/",
          "height": 35
        },
        "outputId": "ededc17a-2b2c-4dd7-e160-a8264ec876fd"
      },
      "source": [
        "myfilter(even,mylist)"
      ],
      "execution_count": 47,
      "outputs": [
        {
          "output_type": "execute_result",
          "data": {
            "text/plain": [
              "[2, 4, 6, 8, 10]"
            ]
          },
          "metadata": {
            "tags": []
          },
          "execution_count": 47
        }
      ]
    },
    {
      "cell_type": "code",
      "metadata": {
        "id": "wOTlreKXcfc6",
        "colab_type": "code",
        "colab": {}
      },
      "source": [
        ""
      ],
      "execution_count": 0,
      "outputs": []
    },
    {
      "cell_type": "markdown",
      "metadata": {
        "id": "T9j1r2JwVWLR",
        "colab_type": "text"
      },
      "source": [
        "2.  \n",
        " \n",
        "Implement List comprehensions to produce the following lists. \n",
        " \n",
        "Write List comprehensions to produce the following Lists \n",
        " \n",
        "['A', 'C', 'A', 'D', 'G', 'I', ’L’, ‘ D’] \n",
        " \n",
        "['x', 'xx', 'xxx', 'xxxx', 'y', 'yy', 'yyy', 'yyyy', 'z', 'zz', 'zzz', 'zzzz'] \n",
        " \n",
        "['x', 'y', 'z', 'xx', 'yy', 'zz', 'xx', 'yy', 'zz', 'xxxx', 'yyyy', 'zzzz']\n",
        "\n",
        "[[2], [3], [4], [3], [4], [5], [4], [5], [6]] \n",
        " \n",
        "[[2, 3, 4, 5], [3, 4, 5, 6], [4, 5, 6, 7], [5, 6, 7, 8]] \n",
        " \n",
        "[(1, 1), (2, 1), (3, 1), (1, 2), (2, 2), (3, 2), (1, 3), (2, 3), (3, 3)] "
      ]
    },
    {
      "cell_type": "code",
      "metadata": {
        "id": "sMEa7l4Fc7WX",
        "colab_type": "code",
        "colab": {}
      },
      "source": [
        ""
      ],
      "execution_count": 0,
      "outputs": []
    },
    {
      "cell_type": "code",
      "metadata": {
        "id": "mMzp5rzNc8U1",
        "colab_type": "code",
        "outputId": "4264215b-6d2f-487c-a145-9544b17de4f7",
        "colab": {
          "base_uri": "https://localhost:8080/",
          "height": 35
        }
      },
      "source": [
        "[ i for i in \"ACADGILD\"]"
      ],
      "execution_count": 0,
      "outputs": [
        {
          "output_type": "execute_result",
          "data": {
            "text/plain": [
              "['A', 'C', 'A', 'D', 'G', 'I', 'L', 'D']"
            ]
          },
          "metadata": {
            "tags": []
          },
          "execution_count": 25
        }
      ]
    },
    {
      "cell_type": "code",
      "metadata": {
        "id": "fY0PzpDRc_Gn",
        "colab_type": "code",
        "outputId": "e00a0dab-cd5b-4494-bd58-c40e814d5df9",
        "colab": {
          "base_uri": "https://localhost:8080/",
          "height": 35
        }
      },
      "source": [
        "[i*j for i in \"xyz\" for j in range(1,5)]"
      ],
      "execution_count": 0,
      "outputs": [
        {
          "output_type": "execute_result",
          "data": {
            "text/plain": [
              "['x', 'xx', 'xxx', 'xxxx', 'y', 'yy', 'yyy', 'yyyy', 'z', 'zz', 'zzz', 'zzzz']"
            ]
          },
          "metadata": {
            "tags": []
          },
          "execution_count": 10
        }
      ]
    },
    {
      "cell_type": "code",
      "metadata": {
        "id": "hByjODf5roCO",
        "colab_type": "code",
        "outputId": "d683c14d-5a2e-4fc9-cb37-fa2440d920c5",
        "colab": {
          "base_uri": "https://localhost:8080/",
          "height": 35
        }
      },
      "source": [
        "[i*j for i in range(1,4) for j in \"xyz\"]"
      ],
      "execution_count": 0,
      "outputs": [
        {
          "output_type": "execute_result",
          "data": {
            "text/plain": [
              "['x', 'y', 'z', 'xx', 'yy', 'zz', 'xxx', 'yyy', 'zzz']"
            ]
          },
          "metadata": {
            "tags": []
          },
          "execution_count": 16
        }
      ]
    },
    {
      "cell_type": "code",
      "metadata": {
        "id": "JX9HLU4kzzZq",
        "colab_type": "code",
        "outputId": "902a649c-1f36-4446-8842-2565df2ac8b9",
        "colab": {
          "base_uri": "https://localhost:8080/",
          "height": 35
        }
      },
      "source": [
        "[[i+j] for i in range(2,5) for j in range(3)]  "
      ],
      "execution_count": 0,
      "outputs": [
        {
          "output_type": "execute_result",
          "data": {
            "text/plain": [
              "[[2], [3], [4], [3], [4], [5], [4], [5], [6]]"
            ]
          },
          "metadata": {
            "tags": []
          },
          "execution_count": 54
        }
      ]
    },
    {
      "cell_type": "code",
      "metadata": {
        "id": "SJBrPWTx9z-s",
        "colab_type": "code",
        "outputId": "5d41491f-b250-4b04-af86-074285e8ccc0",
        "colab": {
          "base_uri": "https://localhost:8080/",
          "height": 35
        }
      },
      "source": [
        " [[i,i+1,i+2,i+3]for i in range(2,6)]"
      ],
      "execution_count": 0,
      "outputs": [
        {
          "output_type": "execute_result",
          "data": {
            "text/plain": [
              "[[2, 3, 4, 5], [3, 4, 5, 6], [4, 5, 6, 7], [5, 6, 7, 8]]"
            ]
          },
          "metadata": {
            "tags": []
          },
          "execution_count": 13
        }
      ]
    },
    {
      "cell_type": "code",
      "metadata": {
        "id": "hdqWKvPWaEGp",
        "colab_type": "code",
        "outputId": "47345167-195b-4cac-886c-bba5870e8e1a",
        "colab": {
          "base_uri": "https://localhost:8080/",
          "height": 35
        }
      },
      "source": [
        "[(j,i) for i in range(1,4) for j in range(1,4)]"
      ],
      "execution_count": 0,
      "outputs": [
        {
          "output_type": "execute_result",
          "data": {
            "text/plain": [
              "[(1, 1), (2, 1), (3, 1), (1, 2), (2, 2), (3, 2), (1, 3), (2, 3), (3, 3)]"
            ]
          },
          "metadata": {
            "tags": []
          },
          "execution_count": 15
        }
      ]
    },
    {
      "cell_type": "code",
      "metadata": {
        "id": "ti31YTUWaEKi",
        "colab_type": "code",
        "colab": {}
      },
      "source": [
        ""
      ],
      "execution_count": 0,
      "outputs": []
    },
    {
      "cell_type": "markdown",
      "metadata": {
        "id": "-o-UUPLodNHm",
        "colab_type": "text"
      },
      "source": [
        "Task 2: \n",
        " \n",
        " \n",
        "1.1  \n",
        " \n",
        "Write a Python Program(with class concepts) to find the area of the triangle using the below formula. \n",
        " \n",
        "area = (s*(s-a)*(s-b)*(s-c)) **0.5 \n",
        " \n",
        "Function to take the length of the sides of triangle from user should be defined in the parent class and function to calculate the area should be defined in subclass. "
      ]
    },
    {
      "cell_type": "code",
      "metadata": {
        "id": "spa9CQU6ZZZg",
        "colab_type": "code",
        "colab": {}
      },
      "source": [
        "class triangle():\n",
        "   def __init__(self,a,b,c):\n",
        "       self.a = a\n",
        "       self.b = b\n",
        "       self.c = c\n",
        "class sides(triangle):\n",
        "   def compute_area(self):\n",
        "       s=(self.a + self.b + self.c)/2\n",
        "       area1=(s*(s-self.a)*(s-self.b)*(s-self.c))**0.5\n",
        "       print(area1)"
      ],
      "execution_count": 0,
      "outputs": []
    },
    {
      "cell_type": "code",
      "metadata": {
        "id": "FHS_u1UFZcsF",
        "colab_type": "code",
        "colab": {
          "base_uri": "https://localhost:8080/",
          "height": 35
        },
        "outputId": "1e0350a0-6e0e-4c6a-9bdc-fabbf4dbca74"
      },
      "source": [
        "t = sides(2,3,4)\n",
        "t.compute_area()"
      ],
      "execution_count": 49,
      "outputs": [
        {
          "output_type": "stream",
          "text": [
            "2.9047375096555625\n"
          ],
          "name": "stdout"
        }
      ]
    },
    {
      "cell_type": "markdown",
      "metadata": {
        "id": "x3DZNqWPwzyn",
        "colab_type": "text"
      },
      "source": [
        "1.2 \n",
        " \n",
        "Write a function filter_long_words() that takes a list of words and an integer n and returns the list of words that are longer than n. "
      ]
    },
    {
      "cell_type": "code",
      "metadata": {
        "id": "qmuLqBVLZ74f",
        "colab_type": "code",
        "colab": {}
      },
      "source": [
        "def filter_long_words(wordlist,integer_length):\n",
        "          words=[]\n",
        "          for i in wordlist:\n",
        "            if len(i)>integer_length:\n",
        "                words.append(i)\n",
        "          return words"
      ],
      "execution_count": 0,
      "outputs": []
    },
    {
      "cell_type": "code",
      "metadata": {
        "id": "cOXMZLGlQRud",
        "colab_type": "code",
        "colab": {}
      },
      "source": [
        "listword=[\"sdasdasd\",\"dasdasd\",\"dsdasdsad\",\"sdsa\"]"
      ],
      "execution_count": 0,
      "outputs": []
    },
    {
      "cell_type": "code",
      "metadata": {
        "id": "rRYolMUB8R9Q",
        "colab_type": "code",
        "colab": {
          "base_uri": "https://localhost:8080/",
          "height": 35
        },
        "outputId": "639cbf57-a2c2-4651-bd69-9871c8058c79"
      },
      "source": [
        "filter_long_words(listword,4)"
      ],
      "execution_count": 52,
      "outputs": [
        {
          "output_type": "execute_result",
          "data": {
            "text/plain": [
              "['sdasdasd', 'dasdasd', 'dsdasdsad']"
            ]
          },
          "metadata": {
            "tags": []
          },
          "execution_count": 52
        }
      ]
    },
    {
      "cell_type": "code",
      "metadata": {
        "id": "D6LQ1DMY8gn4",
        "colab_type": "code",
        "colab": {}
      },
      "source": [
        ""
      ],
      "execution_count": 0,
      "outputs": []
    },
    {
      "cell_type": "markdown",
      "metadata": {
        "id": "Y2Socn7s7PXt",
        "colab_type": "text"
      },
      "source": [
        "2.1 \n",
        " \n",
        "Write a Python program using function concept that maps  list of words into a list of integers representing the lengths of the corresponding words​. \n",
        " Hint: ​If a list [ ab,cde,erty] is passed on to the python function output should come as [2,3,4] \n",
        " Here 2,3 and 4 are the lengths of the words in the list. \n",
        " "
      ]
    },
    {
      "cell_type": "code",
      "metadata": {
        "id": "i72qqwrYP-lR",
        "colab_type": "code",
        "colab": {
          "base_uri": "https://localhost:8080/",
          "height": 35
        },
        "outputId": "16b287a3-d579-48f7-ffe9-8b824a06c350"
      },
      "source": [
        "wordlist = [\"This\", \"is\", \"a\", \"beautiful\", \"day\"]\n",
        "\n",
        "print (\"word lengths in array => \" + str(wordlength(wordlist)))"
      ],
      "execution_count": 149,
      "outputs": [
        {
          "output_type": "stream",
          "text": [
            "word lengths in array => [4, 2, 1, 9, 3]\n"
          ],
          "name": "stdout"
        }
      ]
    },
    {
      "cell_type": "code",
      "metadata": {
        "id": "9P9Kkmz-BrlC",
        "colab_type": "code",
        "colab": {}
      },
      "source": [
        "def wordlength_finder(worldlist):\n",
        "    return list(map(lambda x:len(x), wordlist))"
      ],
      "execution_count": 0,
      "outputs": []
    },
    {
      "cell_type": "code",
      "metadata": {
        "id": "IAhYPvWjDO-X",
        "colab_type": "code",
        "colab": {
          "base_uri": "https://localhost:8080/",
          "height": 35
        },
        "outputId": "aa424dc1-5994-4a6b-966c-5226d275022a"
      },
      "source": [
        "wordlength_finder(wordlist)"
      ],
      "execution_count": 153,
      "outputs": [
        {
          "output_type": "execute_result",
          "data": {
            "text/plain": [
              "[4, 2, 1, 9, 3]"
            ]
          },
          "metadata": {
            "tags": []
          },
          "execution_count": 153
        }
      ]
    },
    {
      "cell_type": "code",
      "metadata": {
        "id": "lrle0xXGRY3w",
        "colab_type": "code",
        "colab": {
          "base_uri": "https://localhost:8080/",
          "height": 35
        },
        "outputId": "71d918bb-6c7a-473d-c56e-8108a6993b6d"
      },
      "source": [
        "print (\"word lengths in array => \" + str(wordlength(wordlist)))"
      ],
      "execution_count": 154,
      "outputs": [
        {
          "output_type": "stream",
          "text": [
            "word lengths in array => [4, 2, 1, 9, 3]\n"
          ],
          "name": "stdout"
        }
      ]
    },
    {
      "cell_type": "markdown",
      "metadata": {
        "id": "l54u2h137Ug8",
        "colab_type": "text"
      },
      "source": [
        "2.2 \n",
        " \n",
        "Write a Python function which takes a character (i.e. a string of length 1) and returns True if it is a vowel, False otherwise \n"
      ]
    },
    {
      "cell_type": "code",
      "metadata": {
        "id": "KuD4oxmECdaK",
        "colab_type": "code",
        "colab": {}
      },
      "source": [
        "def check_vowel(char):\n",
        "  if char.lower() in ['a','e','i','o','u']:\n",
        "        print(\"True\")\n",
        "  else:\n",
        "      print(\"False\")\n",
        "    "
      ],
      "execution_count": 0,
      "outputs": []
    },
    {
      "cell_type": "code",
      "metadata": {
        "id": "9UK4A6uUCe-u",
        "colab_type": "code",
        "colab": {
          "base_uri": "https://localhost:8080/",
          "height": 35
        },
        "outputId": "e871382a-3b46-4621-c8bb-c344f250099f"
      },
      "source": [
        "check_vowel(\"A\")"
      ],
      "execution_count": 146,
      "outputs": [
        {
          "output_type": "stream",
          "text": [
            "True\n"
          ],
          "name": "stdout"
        }
      ]
    },
    {
      "cell_type": "code",
      "metadata": {
        "id": "ctSInoU6Rb8S",
        "colab_type": "code",
        "colab": {}
      },
      "source": [
        ""
      ],
      "execution_count": 0,
      "outputs": []
    },
    {
      "cell_type": "code",
      "metadata": {
        "id": "gw2Mi49FIP-_",
        "colab_type": "code",
        "colab": {
          "base_uri": "https://localhost:8080/",
          "height": 35
        },
        "outputId": "c1940b91-d324-43f3-fbbd-a92e12d2795c"
      },
      "source": [
        "check_vowel(\"k\")"
      ],
      "execution_count": 147,
      "outputs": [
        {
          "output_type": "stream",
          "text": [
            "False\n"
          ],
          "name": "stdout"
        }
      ]
    },
    {
      "cell_type": "code",
      "metadata": {
        "id": "9n4NKANIITVn",
        "colab_type": "code",
        "colab": {
          "base_uri": "https://localhost:8080/",
          "height": 35
        },
        "outputId": "557e189a-7579-4665-d887-d419911ebfe3"
      },
      "source": [
        "check_vowel(\"j\")"
      ],
      "execution_count": 148,
      "outputs": [
        {
          "output_type": "stream",
          "text": [
            "False\n"
          ],
          "name": "stdout"
        }
      ]
    },
    {
      "cell_type": "code",
      "metadata": {
        "id": "vhF5z2JyO1ZW",
        "colab_type": "code",
        "colab": {}
      },
      "source": [
        ""
      ],
      "execution_count": 0,
      "outputs": []
    }
  ]
}